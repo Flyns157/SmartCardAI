{
 "cells": [
  {
   "cell_type": "code",
   "execution_count": null,
   "metadata": {},
   "outputs": [],
   "source": [
    "!nvidia-smi\n",
    "!pip install rlcard tensorflow\n",
    "!pip install rlcard[torch]"
   ]
  },
  {
   "cell_type": "code",
   "execution_count": 22,
   "metadata": {},
   "outputs": [
    {
     "name": "stdout",
     "output_type": "stream",
     "text": [
      "nothing\n"
     ]
    }
   ],
   "source": [
    "import torch\n",
    "print(torch.cuda.get_device_name(0) if torch.cuda.is_available() else 'nothing')\n"
   ]
  },
  {
   "cell_type": "code",
   "execution_count": 10,
   "metadata": {},
   "outputs": [
    {
     "name": "stderr",
     "output_type": "stream",
     "text": [
      "C:\\Users\\gcmpr\\AppData\\Local\\Temp\\ipykernel_20116\\4233553712.py:45: FutureWarning: You are using `torch.load` with `weights_only=False` (the current default value), which uses the default pickle module implicitly. It is possible to construct malicious pickle data which will execute arbitrary code during unpickling (See https://github.com/pytorch/pytorch/blob/main/SECURITY.md#untrusted-models for more details). In a future release, the default value for `weights_only` will be flipped to `True`. This limits the functions that could be executed during unpickling. Arbitrary objects will no longer be allowed to be loaded via this mode unless they are explicitly allowlisted by the user via `torch.serialization.add_safe_globals`. We recommend you start setting `weights_only=True` for any use case where you don't have full control of the loaded file. Please open an issue on GitHub for any issues related to this experimental feature.\n",
      "  dqn_agent=torch.load(load_checkpoint_path)\n"
     ]
    },
    {
     "name": "stdout",
     "output_type": "stream",
     "text": [
      "Après 1000 parties :\n",
      "Agent 1 a gagné 467 fois\n",
      "Agent 2 a gagné 533 fois\n",
      "Taux de victoire de l'agent 1 : 46.70%\n",
      "Taux de victoire de l'agent 2 : 53.30%\n"
     ]
    }
   ],
   "source": [
    "from rlcard.models.uno_rule_models import UNORuleModelV1\n",
    "from agent_manager.ruled import UNORuleModelV2\n",
    "from agent_manager import evaluate_agents\n",
    "from rlcard.agents import RandomAgent\n",
    "import torch\n",
    "\n",
    "# Initialiser l'agent basé sur des règles\n",
    "rule_agent_1 = UNORuleModelV1().agents[0]\n",
    "rule_agent_2 = UNORuleModelV2().agents[0]\n",
    "\n",
    "# Chargement d'un modèle DQN\n",
    "load_checkpoint_path = \"experiments/model.pth\"\n",
    "dqn_agent=torch.load(load_checkpoint_path)\n",
    "\n",
    "# Chargement d'un modèle CFR pré-entrainé\n",
    "cfr_agent = models.load('leduc-holdem-cfr').agents[0]\n",
    "\n",
    "# Initialisation d'un agent aléatoire\n",
    "random_agent = RandomAgent(num_actions=61)\n",
    "\n",
    "# Évaluer les agents sur 1000 parties\n",
    "evaluate_agents(num_games=1000, agents=[dqn_agent, rule_agent_2])\n"
   ]
  }
 ],
 "metadata": {
  "kernelspec": {
   "display_name": ".venv",
   "language": "python",
   "name": "python3"
  },
  "language_info": {
   "codemirror_mode": {
    "name": "ipython",
    "version": 3
   },
   "file_extension": ".py",
   "mimetype": "text/x-python",
   "name": "python",
   "nbconvert_exporter": "python",
   "pygments_lexer": "ipython3",
   "version": "3.12.7"
  }
 },
 "nbformat": 4,
 "nbformat_minor": 2
}
